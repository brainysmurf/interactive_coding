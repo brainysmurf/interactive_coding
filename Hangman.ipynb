{
 "cells": [
  {
   "cell_type": "markdown",
   "metadata": {
    "deletable": true,
    "editable": true
   },
   "source": [
    "# Learning Python via Hangman\n",
    "#### Play (Quick Start):\n",
    "Click on \"Cell\" and \"Run All\"\n",
    "\n",
    "#### Learn:\n",
    "Carefully go through interacting with the code, reading the explanations, and changing the code to see how it works. There will be challenges for your to overcome.\n",
    "\n",
    "#### Format:\n",
    "\n",
    "This page is written as if it is Python program, with extra explanations. Some cells are formal Python code, and other cells are just text explanations."
   ]
  },
  {
   "cell_type": "markdown",
   "metadata": {
    "deletable": true,
    "editable": true
   },
   "source": [
    "<hr>"
   ]
  },
  {
   "cell_type": "markdown",
   "metadata": {
    "deletable": true,
    "editable": true
   },
   "source": [
    "## Meta section\n",
    "\n",
    "At the top of a Python file, you can think of it as being a \"meta\" section. In includes two general things:\n",
    "\n",
    "1) A long, multi-line comment that gives meta information about the code…\n"
   ]
  },
  {
   "cell_type": "code",
   "execution_count": null,
   "metadata": {
    "collapsed": false,
    "deletable": true,
    "editable": true
   },
   "outputs": [],
   "source": [
    "\"\"\"\n",
    "These explanation comments are provided by using triple-quotes, at the start and end\n",
    "\n",
    "Often it provides author/license information\n",
    "\n",
    "Author: Adam Morris @brainysmurf\n",
    "License: Public Domain\n",
    "\n",
    "\"\"\";"
   ]
  },
  {
   "cell_type": "markdown",
   "metadata": {
    "deletable": true,
    "editable": true
   },
   "source": [
    "2) … and required imports\n",
    "\n",
    "Import statements allow us to use utilities and other nice things that are included with the Python language. This this case, the module `subprocess` gives us the ability to use the `say` command that is actually run by the Macintosh operating system."
   ]
  },
  {
   "cell_type": "code",
   "execution_count": 46,
   "metadata": {
    "collapsed": false,
    "deletable": true,
    "editable": true
   },
   "outputs": [],
   "source": [
    "import subprocess  # we won't use this until (much) later, \n",
    "                   # but we should declare it at the top"
   ]
  },
  {
   "cell_type": "markdown",
   "metadata": {
    "deletable": true,
    "editable": true
   },
   "source": [
    " <hr>"
   ]
  },
  {
   "cell_type": "markdown",
   "metadata": {
    "deletable": true,
    "editable": true
   },
   "source": [
    "## Definition Section: Classes\n",
    "\n",
    "After the import section, Python programs often have a definition section, where they provide objects and things. Think of it as a plan for going forward, until the main code actually runs.\n",
    "\n",
    "Python programs, especially more complex ones, often have at least one `class` defined, like below. Classes are objects which can be heavily customized to have particular attributes and behaviours, all run by code. This class is basically a container for all the vital information that our application has.\n",
    "\n",
    "Our `HangmanObject` class is pretty simple however, since all it does is keep some information about the program for us."
   ]
  },
  {
   "cell_type": "code",
   "execution_count": null,
   "metadata": {
    "collapsed": false,
    "deletable": true,
    "editable": true
   },
   "outputs": [],
   "source": [
    "class HangmanObject(object):\n",
    "    \"\"\"\n",
    "    HangmanObject is the 'obj' in this program\n",
    "    \"\"\"\n",
    "    def __init__(self, answer, player_name):\n",
    "        \"\"\" This is the object initializer \"\"\"\n",
    "        \n",
    "        # First save the information that we have been passed:\n",
    "        self.answer = answer  # The puzzle \n",
    "        self.player_name = player_name\n",
    "\n",
    "        # Now save the information that has not been passed:\n",
    "        self.chosen = ''  # What the user has chosen\n",
    "        self.num_errors = 0\n",
    "        self.pics = pics = ['''\n",
    "    \n",
    "       +---+\n",
    "       |   |\n",
    "           |\n",
    "           |\n",
    "           |\n",
    "           |\n",
    "     =========''', '''\n",
    "    \n",
    "       +---+\n",
    "       |   |\n",
    "       O   |\n",
    "           |\n",
    "           |\n",
    "           |\n",
    "     =========''', '''\n",
    "    \n",
    "       +---+\n",
    "       |   |\n",
    "       O   |\n",
    "       |   |\n",
    "           |\n",
    "           |\n",
    "     =========''', '''\n",
    "    \n",
    "       +---+\n",
    "       |   |\n",
    "       O   |\n",
    "      /|   |\n",
    "           |\n",
    "           |\n",
    "     =========''', '''\n",
    "    \n",
    "       +---+\n",
    "       |   |\n",
    "       O   |\n",
    "      /|\\  |\n",
    "           |\n",
    "           |\n",
    "     =========''', '''\n",
    "    \n",
    "       +---+\n",
    "       |   |\n",
    "       O   |\n",
    "      /|\\  |\n",
    "      /    |\n",
    "           |\n",
    "     =========''', '''\n",
    "    \n",
    "       +---+\n",
    "       |   |\n",
    "       O   |\n",
    "      /|\\  |\n",
    "      / \\  |\n",
    "           |\n",
    "     =========''']\n",
    "\n",
    "    def is_solved(self):\n",
    "        \"\"\"\n",
    "        In order to determine if the player has won\n",
    "        We use some math, specifically a set operation\n",
    "        Spaces do not count for the 'answer', \n",
    "        so we have to remove them with the String.replace function\n",
    "        \"\"\"\n",
    "        answer = self.answer.lower().replace(' ', '')\n",
    "        chosen = self.chosen.lower()\n",
    "        answer_set = set(answer)\n",
    "        chosen_set = set(chosen)\n",
    "        return (answer_set - chosen_set) == set()"
   ]
  },
  {
   "cell_type": "markdown",
   "metadata": {},
   "source": [
    "#### Interact with the Class\n",
    "\n",
    "Python classes are used by \"calling\" them. In Python, you \"call\" something by using `()`. But, for us, if you run with empty parentheses, like below…"
   ]
  },
  {
   "cell_type": "code",
   "execution_count": null,
   "metadata": {
    "collapsed": false
   },
   "outputs": [],
   "source": [
    "hangman_obj = HangmanObject()"
   ]
  },
  {
   "cell_type": "markdown",
   "metadata": {},
   "source": [
    "…you end up with an error. Notice what the error says: `__init__() missing 2 required positional arguments`. Let's look at what this means, because understanding this message will teach us something interesting and basic to using classes. \n",
    "\n",
    "When you use `()` on a class like this, Python automatically jumps to the class' `__init__` method, and runs the containing code. It lets you \"initialize\" the object with default values. We initialize and save the information on the object, so that we can use it again.\n",
    "\n",
    "Let's use a simpler class, other than `HangmanObject` to understand better:"
   ]
  },
  {
   "cell_type": "code",
   "execution_count": null,
   "metadata": {
    "collapsed": false
   },
   "outputs": [],
   "source": [
    "class Student:\n",
    "    def __init__(self, name, age, grade):  # self means \"me\"\n",
    "        self.name = name  # save the name on myself\n",
    "        self.age = age  # save the age on myself\n",
    "        self.grade = grade  # save the grade on myself"
   ]
  },
  {
   "cell_type": "markdown",
   "metadata": {},
   "source": [
    "Okay, so this class lets us create a student object with a name, age, and grade attribute. This means that the objects has information about itself. We create this by using `()`. For example, let's imagine there is a new student at our school, and we want to create that student in code:"
   ]
  },
  {
   "cell_type": "code",
   "execution_count": null,
   "metadata": {
    "collapsed": false
   },
   "outputs": [],
   "source": [
    "new_student = Student()"
   ]
  },
  {
   "cell_type": "markdown",
   "metadata": {},
   "source": [
    "But wait! That causes an error. Because the `__init__` method has some variables that it needs, otherwise it can't work right! It should be like this:"
   ]
  },
  {
   "cell_type": "code",
   "execution_count": null,
   "metadata": {
    "collapsed": true
   },
   "outputs": [],
   "source": [
    "new_student = Student(\"Happy Student\", 12, 6)  # name, age, grade"
   ]
  },
  {
   "cell_type": "markdown",
   "metadata": {},
   "source": [
    "Now that the information has been saved, we can use it to get back our information:"
   ]
  },
  {
   "cell_type": "code",
   "execution_count": null,
   "metadata": {
    "collapsed": false
   },
   "outputs": [],
   "source": [
    "print(\n",
    "    new_student.name + \n",
    "    \" is a new student, who is \" + \n",
    "    str(new_student.age) + \n",
    "    \" years old and is in grade \" + \n",
    "    str(new_student.grade) + \n",
    "    \".\"\n",
    ")"
   ]
  },
  {
   "cell_type": "markdown",
   "metadata": {},
   "source": [
    "#### Challenge Question\n",
    "\n",
    "If we remove the `str(...)` from the `print` statement above, it produces an error. Why is it an error? The answer involves understanding that strings and integers are not the same.\n",
    "\n",
    "#### Challenge Action\n",
    "\n",
    "The print statement above can be changed to use the `String.format` method instead. The syntax to do that looks like this:\n",
    "\n",
    "`\"{} + {} = {}\".format(1, 2, 3)`\n",
    "\n",
    "Notice that you do not need to use the `str()` built-in method to convert an integer to a string if you use `String.format`, which is one of the reasons why we should use it!\n",
    "\n",
    "Can you change the print statement to output the same, using `format` instead?"
   ]
  },
  {
   "cell_type": "markdown",
   "metadata": {
    "deletable": true,
    "editable": true
   },
   "source": [
    "<hr>"
   ]
  },
  {
   "cell_type": "markdown",
   "metadata": {
    "deletable": true,
    "editable": true
   },
   "source": [
    "## Definition Section: Functions"
   ]
  },
  {
   "cell_type": "code",
   "execution_count": null,
   "metadata": {
    "collapsed": false,
    "deletable": true,
    "editable": true
   },
   "outputs": [],
   "source": [
    "def display_man(hangman):\n",
    "    picture = hangman.obj.pics[hangman.obj.num_errors]\n",
    "    print(picture)"
   ]
  },
  {
   "cell_type": "code",
   "execution_count": null,
   "metadata": {
    "collapsed": true,
    "deletable": true,
    "editable": true
   },
   "outputs": [],
   "source": [
    "def speak(words):\n",
    "    if isinstance(words, str):\n",
    "        words = words.split(\" \")  # convert the words into a list\n",
    "    cmds = ['say']\n",
    "    cmds.extend(words)\n",
    "    subprocess.run(cmds)"
   ]
  },
  {
   "cell_type": "code",
   "execution_count": null,
   "metadata": {
    "collapsed": true,
    "deletable": true,
    "editable": true
   },
   "outputs": [],
   "source": [
    "def prompt(text):\n",
    "    return input(text + ': ')"
   ]
  },
  {
   "cell_type": "code",
   "execution_count": null,
   "metadata": {
    "collapsed": false,
    "deletable": true,
    "editable": true,
    "scrolled": true
   },
   "outputs": [],
   "source": [
    "def blanks(hangman):\n",
    "    answer = hangman.obj.answer.upper()\n",
    "    chosen = hangman.obj.chosen.upper()\n",
    "\n",
    "    # Go through each word in the answer\n",
    "    # and pick the right color\n",
    "    width_count = 0\n",
    "    max_width = 50\n",
    "    for word in answer.split(' '):\n",
    "        width_count += (len(word) + 1) * 2\n",
    "        if width_count > max_width:\n",
    "            print()\n",
    "            width_count = (len(word) + 1) * 2\n",
    "        for l in range(len(word)):\n",
    "            letter = word[l].upper()\n",
    "            if letter in chosen:\n",
    "                print(letter.upper() + ' ', end='')\n",
    "            else:\n",
    "                print('_ ', end='')\n",
    "        print('  ', end='')  # space between words\n",
    "\n",
    "    print(); print()\n",
    "    \n",
    "    # loop from a to z, counting by integer\n",
    "    for c in range(ord('a'), ord('z')+1):\n",
    "        # convert integer into the cooresponding character\n",
    "        ch = chr(c)\n",
    "        if ch in chosen:\n",
    "            ch = ch.upper()\n",
    "        # output the character, without a new line\n",
    "        print(ch, end='')\n",
    "    print()"
   ]
  },
  {
   "cell_type": "code",
   "execution_count": null,
   "metadata": {
    "collapsed": false,
    "deletable": true,
    "editable": true
   },
   "outputs": [],
   "source": [
    "def ask_user(hangman):\n",
    "    \n",
    "    def valid_choice(ch):\n",
    "        return len(ch) == 1\n",
    "    \n",
    "    choice = None\n",
    "    while not choice:\n",
    "        choice = prompt(\"Pick any letter\")\n",
    "        choice = choice.lower()\n",
    "\n",
    "        if not valid_choice(choice):\n",
    "            print(\"Has to be just one character!\")\n",
    "            choice = None\n",
    "            continue\n",
    "\n",
    "        if ord(choice) not in range(ord('a'), ord('z')+1):\n",
    "            print(\"Type a letter from A to Z!\")\n",
    "            speak(\"That is an illegal character. Illegal!\")\n",
    "            choice = None\n",
    "            continue\n",
    "\n",
    "    return choice"
   ]
  },
  {
   "cell_type": "code",
   "execution_count": null,
   "metadata": {
    "collapsed": true,
    "deletable": true,
    "editable": true
   },
   "outputs": [],
   "source": [
    "def setup_game():\n",
    "    \"\"\" Returns the hangman obj \"\"\"\n",
    "\n",
    "    class HangmanApp:\n",
    "        def __init__(self, answer, player_name):\n",
    "            self.obj = HangmanObject(answer, player_name)\n",
    "\n",
    "    name = prompt(\"Enter your name\")\n",
    "    player_name = name.title()\n",
    "\n",
    "    # Say hello to the player\n",
    "    speak('Greetings, ' + name)\n",
    "\n",
    "    # Get the answer\n",
    "    print()\n",
    "    answer = prompt(\"Enter the answer\")\n",
    "\n",
    "\n",
    "    # Set up the clue\n",
    "    print()\n",
    "    clue = prompt('Clue?')\n",
    "    if not clue:\n",
    "        clue = None\n",
    "\n",
    "    return HangmanApp(answer, player_name)\n"
   ]
  },
  {
   "cell_type": "markdown",
   "metadata": {
    "collapsed": true,
    "deletable": true,
    "editable": true
   },
   "source": [
    "<hr>"
   ]
  },
  {
   "cell_type": "markdown",
   "metadata": {},
   "source": [
    "## Main Loop\n",
    "\n"
   ]
  },
  {
   "cell_type": "code",
   "execution_count": null,
   "metadata": {
    "collapsed": false,
    "deletable": true,
    "editable": true
   },
   "outputs": [],
   "source": [
    "def main_loop():\n",
    "    \"\"\"\n",
    "    Executes the main program loop\n",
    "    \"\"\"\n",
    "    hangman = setup_game()\n",
    "\n",
    "    over = False\n",
    "    while not over:\n",
    "\n",
    "        display_man(hangman)\n",
    "        \n",
    "        print()\n",
    "        blanks(hangman)\n",
    "        print()\n",
    "\n",
    "        if hangman.obj.is_solved():\n",
    "            print('!!!!! YOU WON !!!!!')\n",
    "            speak(hangman.obj.answer.split(' '))\n",
    "            over = True\n",
    "            continue\n",
    "\n",
    "        choice = ask_user(hangman)\n",
    "\n",
    "        if choice in hangman.obj.chosen:\n",
    "            speak(\"What are you doing, \" + hangman.obj.player_name + \"?\")\n",
    "            continue\n",
    "\n",
    "        speak([choice])\n",
    "        hangman.obj.chosen += choice\n",
    "\n",
    "        if choice.lower() not in hangman.obj.answer.lower():\n",
    "            print('No!')\n",
    "            speak('No!')\n",
    "            hangman.obj.num_errors += 1\n",
    "\n",
    "            if hangman.obj.num_errors == 5:\n",
    "                speak([\"Careful...\"])\n",
    "\n",
    "            # check if we lost\n",
    "            if hangman.obj.num_errors == 6:\n",
    "                print(\"HA!\")\n",
    "                speak(\"Ha, you lose\")\n",
    "                display_man(hangman)\n",
    "                over = True\n",
    "        else:\n",
    "            print(\"Yes!\")\n",
    "            speak(\"Yes!\")\n",
    "\n"
   ]
  },
  {
   "cell_type": "markdown",
   "metadata": {
    "deletable": true,
    "editable": true
   },
   "source": [
    "## Playground\n",
    "Run the game by running the cell below:"
   ]
  },
  {
   "cell_type": "code",
   "execution_count": null,
   "metadata": {
    "collapsed": false,
    "deletable": true,
    "editable": true
   },
   "outputs": [
    {
     "name": "stdout",
     "output_type": "stream",
     "text": [
      "Enter your name: Adam\n",
      "\n",
      "Enter the answer: hjhjhj\n",
      "\n",
      "Clue?: hj\n",
      "\n",
      "    \n",
      "       +---+\n",
      "       |   |\n",
      "           |\n",
      "           |\n",
      "           |\n",
      "           |\n",
      "     =========\n",
      "\n",
      "_ _ _ _ _ _   \n",
      "\n",
      "abcdefghijklmnopqrstuvwxyz\n",
      "\n",
      "Pick any letter: a\n",
      "No!\n",
      "\n",
      "    \n",
      "       +---+\n",
      "       |   |\n",
      "       O   |\n",
      "           |\n",
      "           |\n",
      "           |\n",
      "     =========\n",
      "\n",
      "_ _ _ _ _ _   \n",
      "\n",
      "abcdefghijklmnopqrstuvwxyz\n",
      "\n"
     ]
    }
   ],
   "source": [
    "main_loop()"
   ]
  },
  {
   "cell_type": "code",
   "execution_count": null,
   "metadata": {
    "collapsed": true
   },
   "outputs": [],
   "source": []
  }
 ],
 "metadata": {
  "kernelspec": {
   "display_name": "Python 3",
   "language": "python",
   "name": "python3"
  },
  "language_info": {
   "codemirror_mode": {
    "name": "ipython",
    "version": 3
   },
   "file_extension": ".py",
   "mimetype": "text/x-python",
   "name": "python",
   "nbconvert_exporter": "python",
   "pygments_lexer": "ipython3",
   "version": "3.6.0"
  }
 },
 "nbformat": 4,
 "nbformat_minor": 2
}
